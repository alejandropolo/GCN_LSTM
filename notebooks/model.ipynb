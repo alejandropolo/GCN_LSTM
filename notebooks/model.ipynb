{
 "cells": [
  {
   "cell_type": "markdown",
   "metadata": {},
   "source": [
    "# INICIALIZACIÓN DEL MODELO"
   ]
  },
  {
   "cell_type": "code",
   "execution_count": 4,
   "metadata": {},
   "outputs": [],
   "source": [
    "### Para poder traer funciones\n",
    "import sys  \n",
    "sys.path.insert(0, '../scripts/')\n",
    "\n",
    "import pandas as pd\n",
    "import numpy as np\n",
    "\n",
    "from utility import load_data\n",
    "import tensorflow as tf\n",
    "import yaml"
   ]
  },
  {
   "cell_type": "code",
   "execution_count": 5,
   "metadata": {},
   "outputs": [],
   "source": [
    "### CARGAR EL YAML DE CONFIGURACIÓN\n",
    "with open('../scripts/config.yaml') as f:\n",
    "    config = yaml.load(f, Loader=yaml.FullLoader)"
   ]
  },
  {
   "cell_type": "code",
   "execution_count": 6,
   "metadata": {},
   "outputs": [
    {
     "name": "stdout",
     "output_type": "stream",
     "text": [
      "/Users/alejandropolo/Desktop/UNIR/TFM/GCN_LSTM\n"
     ]
    }
   ],
   "source": [
    "%cd /Users/alejandropolo/Desktop/UNIR/TFM/GCN_LSTM"
   ]
  },
  {
   "cell_type": "code",
   "execution_count": 7,
   "metadata": {},
   "outputs": [
    {
     "name": "stdout",
     "output_type": "stream",
     "text": [
      "Model: \"model\"\n",
      "_________________________________________________________________\n",
      " Layer (type)                Output Shape              Param #   \n",
      "=================================================================\n",
      " input_1 (InputLayer)        [(None, 207, 10)]         0         \n",
      "                                                                 \n",
      " tf.expand_dims (TFOpLambda)  (None, 207, 10, 1)       0         \n",
      "                                                                 \n",
      " reshape (Reshape)           (None, 207, 10)           0         \n",
      "                                                                 \n",
      " fixed_adjacency_graph_convo  (None, 207, 16)          43216     \n",
      " lution (FixedAdjacencyGraph                                     \n",
      " Convolution)                                                    \n",
      "                                                                 \n",
      " fixed_adjacency_graph_convo  (None, 207, 10)          43216     \n",
      " lution_1 (FixedAdjacencyGra                                     \n",
      " phConvolution)                                                  \n",
      "                                                                 \n",
      " reshape_1 (Reshape)         (None, 207, 10, 1)        0         \n",
      "                                                                 \n",
      " permute (Permute)           (None, 10, 207, 1)        0         \n",
      "                                                                 \n",
      " reshape_2 (Reshape)         (None, 10, 207)           0         \n",
      "                                                                 \n",
      " lstm (LSTM)                 (None, 10, 200)           326400    \n",
      "                                                                 \n",
      " lstm_1 (LSTM)               (None, 200)               320800    \n",
      "                                                                 \n",
      " dropout (Dropout)           (None, 200)               0         \n",
      "                                                                 \n",
      " dense (Dense)               (None, 207)               41607     \n",
      "                                                                 \n",
      "=================================================================\n",
      "Total params: 775,239\n",
      "Trainable params: 689,541\n",
      "Non-trainable params: 85,698\n",
      "_________________________________________________________________\n"
     ]
    }
   ],
   "source": [
    "\"https://medium.com/deep-learning-with-keras/save-load-keras-models-with-custom-layers-8f55ba9183d2\"\n",
    "my_tf_saved_model = tf.keras.models.load_model(\n",
    "    './models/my_tf_model')\n",
    "my_tf_saved_model.summary()"
   ]
  },
  {
   "cell_type": "code",
   "execution_count": 8,
   "metadata": {},
   "outputs": [],
   "source": [
    "trainX,trainY,testX,testY,matriz_adyacencia,max_speed,min_speed=load_data(config)"
   ]
  },
  {
   "cell_type": "code",
   "execution_count": 10,
   "metadata": {},
   "outputs": [
    {
     "name": "stdout",
     "output_type": "stream",
     "text": [
      "857/857 [==============================] - 12s 13ms/step\n",
      "214/214 [==============================] - 3s 12ms/step\n"
     ]
    }
   ],
   "source": [
    "ythat = my_tf_saved_model.predict(trainX)\n",
    "yhat = my_tf_saved_model.predict(testX)"
   ]
  },
  {
   "cell_type": "code",
   "execution_count": 11,
   "metadata": {},
   "outputs": [],
   "source": [
    "## actual train and test values\n",
    "train_true = np.array(trainY * max_speed)\n",
    "#test_rescref = np.array(testY[:,:,0] * max_speed)\n",
    "test_true = np.array(testY * max_speed)\n",
    "## Rescale model predicted values\n",
    "train_pred = np.array((ythat) * max_speed)\n",
    "test_pred = np.array((yhat) * max_speed)"
   ]
  },
  {
   "cell_type": "code",
   "execution_count": 12,
   "metadata": {},
   "outputs": [
    {
     "name": "stdout",
     "output_type": "stream",
     "text": [
      "6.94478918268438 5.380273146634701 233.74129188239291 164.13155511474656\n"
     ]
    }
   ],
   "source": [
    "from sklearn.metrics import mean_absolute_error,mean_squared_error\n",
    "mae=mean_absolute_error(test_pred,test_true)\n",
    "mae_naive=mean_absolute_error(test_pred_naive[:len(test_true)],test_true)\n",
    "#mape=mean_absolute_percentage_error(model_fit.predict(start=10138,end=12671),test[4])*100\n",
    "mse=mean_squared_error(test_pred,test_true)\n",
    "mse_naive=mean_squared_error(test_pred_naive[:len(test_true)],test_true)\n",
    "#print(mae,mape,mse)\n",
    "print(mae,mae_naive,mse,mse_naive)"
   ]
  },
  {
   "cell_type": "code",
   "execution_count": null,
   "metadata": {},
   "outputs": [],
   "source": []
  }
 ],
 "metadata": {
  "kernelspec": {
   "display_name": "Python 3.7.13 ('GCN_LSTM')",
   "language": "python",
   "name": "python3"
  },
  "language_info": {
   "codemirror_mode": {
    "name": "ipython",
    "version": 3
   },
   "file_extension": ".py",
   "mimetype": "text/x-python",
   "name": "python",
   "nbconvert_exporter": "python",
   "pygments_lexer": "ipython3",
   "version": "3.7.13"
  },
  "orig_nbformat": 4,
  "vscode": {
   "interpreter": {
    "hash": "0d4c292cd12bc2569dbad79edcd266c7b4b76ca84db2137e351590321bfb43b7"
   }
  }
 },
 "nbformat": 4,
 "nbformat_minor": 2
}
