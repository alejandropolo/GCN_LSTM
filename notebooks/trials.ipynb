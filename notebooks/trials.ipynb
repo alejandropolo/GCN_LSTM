{
 "cells": [
  {
   "cell_type": "code",
   "execution_count": 17,
   "metadata": {},
   "outputs": [
    {
     "name": "stdout",
     "output_type": "stream",
     "text": [
      "Model: \"model\"\n",
      "_________________________________________________________________\n",
      " Layer (type)                Output Shape              Param #   \n",
      "=================================================================\n",
      " input_1 (InputLayer)        [(None, 207, 12)]         0         \n",
      "                                                                 \n",
      " tf.expand_dims (TFOpLambda)  (None, 207, 12, 1)       0         \n",
      "                                                                 \n",
      " reshape (Reshape)           (None, 207, 12)           0         \n",
      "                                                                 \n",
      " fixed_adjacency_graph_convo  (None, 207, 16)          43248     \n",
      " lution (FixedAdjacencyGraph                                     \n",
      " Convolution)                                                    \n",
      "                                                                 \n",
      " fixed_adjacency_graph_convo  (None, 207, 10)          43216     \n",
      " lution_1 (FixedAdjacencyGra                                     \n",
      " phConvolution)                                                  \n",
      "                                                                 \n",
      " reshape_1 (Reshape)         (None, 207, 10, 1)        0         \n",
      "                                                                 \n",
      " permute (Permute)           (None, 10, 207, 1)        0         \n",
      "                                                                 \n",
      " reshape_2 (Reshape)         (None, 10, 207)           0         \n",
      "                                                                 \n",
      " lstm (LSTM)                 (None, 10, 200)           326400    \n",
      "                                                                 \n",
      " lstm_1 (LSTM)               (None, 200)               320800    \n",
      "                                                                 \n",
      " dropout (Dropout)           (None, 200)               0         \n",
      "                                                                 \n",
      " dense (Dense)               (None, 207)               41607     \n",
      "                                                                 \n",
      "=================================================================\n",
      "Total params: 775,271\n",
      "Trainable params: 689,573\n",
      "Non-trainable params: 85,698\n",
      "_________________________________________________________________\n"
     ]
    }
   ],
   "source": [
    "import tensorflow as tf \n",
    "model = tf.keras.models.load_model('../models/checkpoint/best_model')\n",
    "model.summary()"
   ]
  },
  {
   "cell_type": "code",
   "execution_count": null,
   "metadata": {},
   "outputs": [],
   "source": []
  }
 ],
 "metadata": {
  "kernelspec": {
   "display_name": "Python 3.7.13 ('GCN_LSTM')",
   "language": "python",
   "name": "python3"
  },
  "language_info": {
   "codemirror_mode": {
    "name": "ipython",
    "version": 3
   },
   "file_extension": ".py",
   "mimetype": "text/x-python",
   "name": "python",
   "nbconvert_exporter": "python",
   "pygments_lexer": "ipython3",
   "version": "3.7.13"
  },
  "orig_nbformat": 4,
  "vscode": {
   "interpreter": {
    "hash": "0d4c292cd12bc2569dbad79edcd266c7b4b76ca84db2137e351590321bfb43b7"
   }
  }
 },
 "nbformat": 4,
 "nbformat_minor": 2
}
